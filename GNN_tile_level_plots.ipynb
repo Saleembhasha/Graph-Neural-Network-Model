{
 "cells": [
  {
   "cell_type": "code",
   "execution_count": 1,
   "id": "4bbbf923-9b34-4456-bdf0-aa4c716ae270",
   "metadata": {},
   "outputs": [
    {
     "name": "stdout",
     "output_type": "stream",
     "text": [
      "[0 0 0 ... 0 0 0]\n"
     ]
    }
   ],
   "source": [
    "from tile_categarical_heamp import*\n",
    "from GNN_model_utils import *\n",
    "import numpy as np\n",
    "import pandas as pd\n",
    "import os\n",
    "\n",
    "outdir =\"GNN_modle_Malignant_5FCross_multiGPU\"\n",
    "slide_name = \"BM51_ST-22-34_A-1_-_2022-01-25_10.54.58.ndpi\"\n",
    "\n",
    "slide_file_name = os.path.join(\"/data/NCI_LP/pediatric_Data/Medulloblastoma/NCI_MB_GP34/slides\",slide_name)\n",
    "all_tile_result = np.load(os.path.join(outdir,\"combined_tile_results.npz\"),allow_pickle=True)\n",
    "tile_result = all_tile_result[slide_name]\n",
    "tile_dict = tile_result.item()  # Extract the dictionary from the array\n",
    "tile_labels = tile_dict['tile_preds']\n",
    "tile_scores = pd.DataFrame(tile_dict['tile_score'])\n",
    "tile_scores.columns = [\"Neural.Crest\", \"Neuronal\", \"Photoreceptor\", \"Proliferative\"]\n",
    "print(tile_labels)\n",
    "tile_coord_path = \"/data/NCI_LP/pediatric_Data/Medulloblastoma/NCI_MB_GP34/outputs/NCI_MB_GP34_example/NCI_MB_GP34_coordinates/\"\n",
    "slide_coord_name = slide_name+\"_tile_coordinates.csv\"\n",
    "tile_coords = pd.read_csv(os.path.join(tile_coord_path,slide_coord_name))\n",
    "tile_coords = tile_coords.to_numpy()\n"
   ]
  },
  {
   "cell_type": "code",
   "execution_count": 10,
   "id": "15fd5730-ca2c-4c3a-b0c1-264c987d27f8",
   "metadata": {},
   "outputs": [],
   "source": [
    "import numpy as np\n",
    "import matplotlib.pyplot as plt\n",
    "\n",
    "def create_patch_prediction_plot(tile_coords, pred_score, title=\"path_level_score\" outdir=\"patch_prediction.png\"):\n",
    "    \"\"\"\n",
    "    Generates a scatter plot of patch-level IDH mutation predictions.\n",
    "\n",
    "    Args:\n",
    "        x_coords (np.ndarray): X coordinates for each patch.\n",
    "        y_coords (np.ndarray): Y coordinates for each patch.\n",
    "        idh_predictions (np.ndarray): IDH mutation prediction values.\n",
    "        output_path (str): File path to save the plot.\n",
    "\n",
    "    Returns:\n",
    "        None (Displays and saves the figure)\n",
    "    \"\"\"\n",
    "    print(f\"Tile score lenth:{len(pred_score)}, Tile Coord lenth:{len(tile_coords)}\")\n",
    "    \n",
    "    # Extract X and Y coordinates\n",
    "    y_coords, x_coords = tile_coords[:, 0], tile_coords[:, 1]\n",
    "    \n",
    "    # Create scatter plot\n",
    "    plt.figure(figsize=(8, 6))\n",
    "    scatter = plt.scatter(x_coords, y_coords, c=pred_score, cmap=\"viridis\", edgecolors=\"black\", alpha=0.8)\n",
    "\n",
    "    # Flip the Y-axis so lower values appear on top\n",
    "    plt.gca().invert_yaxis()\n",
    "    \n",
    "    # Add colorbar\n",
    "    cbar = plt.colorbar(scatter)\n",
    "    cbar.set_label(\"Prediction score\", fontsize=12)\n",
    "\n",
    "    # Titles and labels\n",
    "    plt.title(title, fontsize=14)\n",
    "    #plt.xlabel(\"UMAP Dimension 1\", fontsize=12)\n",
    "    #plt.ylabel(\"UMAP Dimension 2\", fontsize=12)\n",
    "\n",
    "    # Save and show the plot\n",
    "    plt.savefig(os.path.join(outdir,\"patch_prediction.png\"), bbox_inches=\"tight\", dpi=300)\n",
    "    plt.show()\n",
    "\n",
    "    print(f\"Patch-level IDH prediction plot saved to {outdir}\")\n",
    "\n"
   ]
  },
  {
   "cell_type": "code",
   "execution_count": 11,
   "id": "285d0a1a-d917-4e21-a1b0-1ea48e8121f5",
   "metadata": {},
   "outputs": [],
   "source": [
    "pred_score= pd.DataFrame(tile_score)[3]"
   ]
  },
  {
   "cell_type": "code",
   "execution_count": null,
   "id": "2475a610-dd6c-49ad-bef4-a737ff59f68a",
   "metadata": {},
   "outputs": [],
   "source": []
  },
  {
   "cell_type": "code",
   "execution_count": 12,
   "id": "e1118106-a51f-4f5e-b453-e8dbad3dd242",
   "metadata": {},
   "outputs": [
    {
     "name": "stdout",
     "output_type": "stream",
     "text": [
      "Tile score lenth:3006, Tile Coord lenth:3006\n"
     ]
    }
   ],
   "source": [
    "print(f\"Tile score lenth:{len(pred_score)}, Tile Coord lenth:{len(tile_coords)}\")"
   ]
  },
  {
   "cell_type": "code",
   "execution_count": 15,
   "id": "ed79d087-334b-40cf-8c67-cf287f7aa99d",
   "metadata": {},
   "outputs": [
    {
     "name": "stdout",
     "output_type": "stream",
     "text": [
      "Tile score lenth:3006, Tile Coord lenth:3006\n",
      "Patch-level IDH prediction plot saved to GNN_modle_Malignant_5FCross_multiGPU\n"
     ]
    }
   ],
   "source": [
    "create_patch_prediction_plot(tile_coords, pred_score,title=\"path_level_score\", outdir=outdir)"
   ]
  },
  {
   "cell_type": "code",
   "execution_count": 24,
   "id": "5ee65f2f-18b5-4fa2-80cd-198526e60811",
   "metadata": {},
   "outputs": [],
   "source": [
    "import numpy as np\n",
    "import matplotlib.pyplot as plt\n",
    "import os\n",
    "\n",
    "def create_multi_panel_plot(tile_coords, tile_scores, outdir=\"multi_panel_plot.png\"):\n",
    "    \"\"\"\n",
    "    Generates a multi-panel plot with multiple scatter plots for different cell states.\n",
    "\n",
    "    Args:\n",
    "        tile_coords (np.ndarray): shape [N, 2], each row = (x, y) coordinates for patches.\n",
    "        tile_scores (pd.DataFrame): DataFrame where each column is a different cell state score.\n",
    "        outdir (str): Output directory to save the figure.\n",
    "\n",
    "    Returns:\n",
    "        None (Displays and saves the multi-panel figure)\n",
    "    \"\"\"\n",
    "\n",
    "    num_plots = len(tile_scores.columns)\n",
    "    rows = (num_plots + 1) // 2  # Arrange in 2 columns\n",
    "    cols = 2 if num_plots > 1 else 1\n",
    "\n",
    "    fig, axes = plt.subplots(rows, cols, figsize=(12, rows * 5))  # Adjust figure size\n",
    "    axes = axes.flatten()  # Flatten axes for easy iteration\n",
    "\n",
    "    for i, cellstate in enumerate(tile_scores.columns):\n",
    "        pred_score = tile_scores[cellstate]  # Extract prediction scores\n",
    "        x_coords, y_coords = tile_coords[:, 0], tile_coords[:, 1]\n",
    "\n",
    "        scatter = axes[i].scatter(x_coords, y_coords, c=pred_score, cmap=\"viridis\", edgecolors=\"black\", alpha=0.8)\n",
    "        axes[i].invert_yaxis()  # Flip Y-axis\n",
    "        axes[i].set_title(cellstate, fontsize=14)\n",
    "        #axes[i].set_xlabel(\"UMAP Dimension 1\", fontsize=12)\n",
    "        #axes[i].set_ylabel(\"UMAP Dimension 2\", fontsize=12)\n",
    "\n",
    "    # Add a single shared colorbar\n",
    "    cbar = fig.colorbar(scatter, ax=axes, shrink=0.7, orientation=\"vertical\")\n",
    "    cbar.set_label(\"Prediction Score\", fontsize=12)\n",
    "\n",
    "    # Ensure output directory exists\n",
    "    os.makedirs(outdir, exist_ok=True)\n",
    "\n",
    "    # Save the figure\n",
    "    save_path = os.path.join(outdir, \"All_cellstate_prediction_score.png\")\n",
    "    plt.savefig(save_path, bbox_inches=\"tight\", dpi=600)\n",
    "    plt.show()\n",
    "\n",
    "    print(f\"Multi-panel plot saved to {save_path}\")\n"
   ]
  },
  {
   "cell_type": "code",
   "execution_count": 29,
   "id": "87be3f3a-4b8e-43ea-8671-68f5458b7d21",
   "metadata": {},
   "outputs": [
    {
     "name": "stdout",
     "output_type": "stream",
     "text": [
      "Multi-panel plot saved to GNN_modle_Malignant_5FCross_multiGPU/All_cellstate_prediction_score.png\n"
     ]
    }
   ],
   "source": [
    "create_multi_panel_plot(tile_coords, tile_scores, outdir=outdir)"
   ]
  },
  {
   "cell_type": "code",
   "execution_count": null,
   "id": "0b76286f-a9e1-4cf0-8230-e1420cc762eb",
   "metadata": {},
   "outputs": [],
   "source": []
  },
  {
   "cell_type": "code",
   "execution_count": 28,
   "id": "025af062-346a-453f-8cd3-b4ce02c99ebc",
   "metadata": {},
   "outputs": [
    {
     "data": {
      "text/plain": [
       "Index(['Neural.Crest', 'Neuronal', 'Photoreceptor', 'Proliferative'], dtype='object')"
      ]
     },
     "execution_count": 28,
     "metadata": {},
     "output_type": "execute_result"
    }
   ],
   "source": [
    "tile_scores.columns"
   ]
  },
  {
   "cell_type": "code",
   "execution_count": 38,
   "id": "70f9a4c3-fd2d-434a-a757-8c48d537ec3f",
   "metadata": {},
   "outputs": [],
   "source": [
    "import numpy as np\n",
    "import matplotlib.pyplot as plt\n",
    "\n",
    "def create_categorical_scatter_plot(tile_coords, tile_labels, category_labels, custom_colors, outdir=\"categorical_plot/\"):\n",
    "    \"\"\"\n",
    "    Generates a scatter plot where colors represent different categories.\n",
    "\n",
    "    Args:\n",
    "        tile_coords (np.ndarray): shape [N, 2], each row = (x, y) coordinates.\n",
    "        categories (np.ndarray): shape [N], categorical labels as numbers (0, 1, 2, ...).\n",
    "        category_labels (dict): Mapping of category numbers to category names.\n",
    "        custom_colors (dict): Custom color mapping for each category.\n",
    "        output_path (str): Path to save the figure.\n",
    "\n",
    "    Returns:\n",
    "        None (Displays and saves the figure)\n",
    "    \"\"\"\n",
    "\n",
    "    # Define unique categories\n",
    "    unique_categories = np.unique(tile_labels)\n",
    "\n",
    "    # Create scatter plot\n",
    "    plt.figure(figsize=(8, 8))\n",
    "    for cat in unique_categories:\n",
    "        mask = tile_labels == cat\n",
    "        plt.scatter(tile_coords[mask, 1], tile_coords[mask, 0], \n",
    "                    color=custom_colors[cat], label=category_labels[cat], \n",
    "                    edgecolors=\"black\", alpha=0.8)\n",
    "\n",
    "    # Flip Y-axis for proper orientation\n",
    "    plt.gca().invert_yaxis()\n",
    "\n",
    "    # Add legend for categorical variable\n",
    "    plt.legend(title=\"Cell states\", bbox_to_anchor=(1.05, 1), loc=\"upper left\", fontsize=10)\n",
    "\n",
    "    # Titles and labels\n",
    "    plt.title(\"Predicted Cell states\", fontsize=14)\n",
    "    #plt.xlabel(\"UMAP Dimension 1\", fontsize=12)\n",
    "    #plt.ylabel(\"UMAP Dimension 2\", fontsize=12)\n",
    "\n",
    "    # Save and show the plot\n",
    "    save_path = os.path.join(outdir, \"cellstate_Class_prediction.png\")\n",
    "    plt.savefig(save_path, bbox_inches=\"tight\", dpi=600)\n",
    "    plt.show()\n",
    "\n",
    "    print(f\"Categorical scatter plot saved to {save_path}\")\n"
   ]
  },
  {
   "cell_type": "code",
   "execution_count": 40,
   "id": "ccad970d-ce14-4312-9203-d2a3c23b9393",
   "metadata": {},
   "outputs": [
    {
     "name": "stdout",
     "output_type": "stream",
     "text": [
      "Categorical scatter plot saved to GNN_modle_Malignant_5FCross_multiGPU/cellstate_Class_prediction.png\n"
     ]
    }
   ],
   "source": [
    "# Mapping of category numbers to names\n",
    "category_labels = {\n",
    "    0: \"Neural-Crest\",\n",
    "    1: \"Neuronal\",\n",
    "    2: \"Photoreceptor\",\n",
    "    3: \"Proliferative\"\n",
    "}\n",
    "\n",
    "# Define a custom color palette (hex codes, RGB, or named colors)\n",
    "custom_colors = {\n",
    "    0: \"#F8D90F\",  # yellow\n",
    "    1: \"#329D9C\",  # Green\n",
    "    2: \"#1F2F98\",  # Blue\n",
    "    3: \"#F04393\"   # pink\n",
    "}\n",
    "\n",
    "# Generate the categorical scatter plot\n",
    "create_categorical_scatter_plot(tile_coords, tile_labels, category_labels, custom_colors, outdir)"
   ]
  },
  {
   "cell_type": "code",
   "execution_count": 47,
   "id": "ca43187d-082b-412f-a7cb-3d9e404e59b9",
   "metadata": {},
   "outputs": [],
   "source": [
    "import os\n",
    "import numpy as np\n",
    "import openslide\n",
    "import matplotlib.pyplot as plt\n",
    "import matplotlib.patches as patches\n",
    "from matplotlib.patches import Patch\n",
    "\n",
    "def overlay_tile_paths_on_wsi(\n",
    "    slide_path: str,\n",
    "    tile_coords: np.ndarray,   # shape (N,2) in level 0 coords\n",
    "    tile_labels: np.ndarray,   # shape (N,) numeric\n",
    "    tile_size: int = 512,\n",
    "    level_for_display: int = 2,\n",
    "    label_names=None,          # dict label->string\n",
    "    label_colors=None,         # dict label->(r,g,b)\n",
    "    outdir: str = \"./output\",\n",
    "    output_prefix: str = \"overlay_paths\"\n",
    "):\n",
    "    \"\"\"\n",
    "    Overlays tile paths (outlines) with label colors on a downsampled WSI image.\n",
    "    \"\"\"\n",
    "\n",
    "    # Open the WSI\n",
    "    slide = openslide.OpenSlide(slide_path)\n",
    "    if level_for_display >= slide.level_count:\n",
    "        raise ValueError(f\"Invalid level {level_for_display}, max is {slide.level_count - 1}\")\n",
    "    ## magnification max\n",
    "    if openslide.PROPERTY_NAME_OBJECTIVE_POWER in slide.properties:\n",
    "        mag_max = slide.properties[openslide.PROPERTY_NAME_OBJECTIVE_POWER]\n",
    "        print(\"mag_max:\", mag_max)\n",
    "        mag_original = mag_max\n",
    "    else:\n",
    "        print(\"[WARNING] mag not found, assuming: {mag_assumed}\")\n",
    "        mag_max = 40\n",
    "        mag_original = 0\n",
    "\n",
    "    ## downsample_level\n",
    "downsampling = int(int(mag_max)/mag_selected)\n",
    "print(f\"downsampling: {downsampling}\")\n",
    "\n",
    "    # Get dimensions and downsampling factor\n",
    "    display_width, display_height = slide.level_dimensions[level_for_display]\n",
    "    downsample_factor = slide.level_downsamples[level_for_display]  # Get the correct downsample factor\n",
    "\n",
    "    print(f\"Using level {level_for_display} => Dimension: {display_width}x{display_height}, Downsample={downsample_factor}\")\n",
    "\n",
    "    # Read the region at this level\n",
    "    display_region = slide.read_region((0, 0), level_for_display, (display_width, display_height))\n",
    "    display_image = display_region.convert('RGB')\n",
    "\n",
    "    # Default label-to-name mapping if not provided\n",
    "    if label_names is None:\n",
    "        label_names = {\n",
    "            0: \"Neural-Crest\",\n",
    "            1: \"Neuronal\",\n",
    "            2: \"Photoreceptor\",\n",
    "            3: \"Proliferative\",\n",
    "        }\n",
    "\n",
    "    # Default label-to-RGB color mapping if not provided\n",
    "    if label_colors is None:\n",
    "        label_colors = {\n",
    "            0: (1.0, 0.0, 0.0),  # Red\n",
    "            1: (0.0, 1.0, 0.0),  # Green\n",
    "            2: (0.0, 0.0, 1.0),  # Blue\n",
    "            3: (1.0, 1.0, 0.0),  # Yellow\n",
    "        }\n",
    "\n",
    "    # Create a Matplotlib figure\n",
    "    fig, ax = plt.subplots(figsize=(12, 12))\n",
    "    ax.imshow(display_image)\n",
    "    ax.axis('off')\n",
    "\n",
    "    # Draw colored outlines for each tile\n",
    "    for i, (row_level0, col_level0) in enumerate(tile_coords):\n",
    "        lbl = tile_labels[i]\n",
    "        color = label_colors.get(lbl, (1.0, 1.0, 1.0))  # Default to white if label not found\n",
    "\n",
    "        # ✅ FIXED: Apply proper downsampling to avoid (0,0) overlap\n",
    "        row_ds = int(row_level0 / downsample_factor)\n",
    "        col_ds = int(col_level0 / downsample_factor)\n",
    "        tile_size_ds = int(tile_size / downsample_factor)\n",
    "\n",
    "        # Create an outline rectangle (no filled color)\n",
    "        rect = patches.Rectangle(\n",
    "            (col_ds, row_ds),  # x (left), y (top)\n",
    "            tile_size_ds,       # Width\n",
    "            tile_size_ds,       # Height\n",
    "            linewidth=2,\n",
    "            edgecolor=color,    # Use category color\n",
    "            facecolor='none'    # Transparent fill\n",
    "        )\n",
    "        ax.add_patch(rect)\n",
    "\n",
    "        # Optional debug print for first few tiles\n",
    "        if i < 5:\n",
    "            name = label_names.get(lbl, f\"Label {lbl}\")\n",
    "            print(f\"Tile {i} => Label={lbl} ({name}), Region=({col_ds},{row_ds}), Size={tile_size_ds}\")\n",
    "\n",
    "    # Build a legend from label_names\n",
    "    legend_patches = []\n",
    "    for lbl, name in label_names.items():\n",
    "        c = label_colors.get(lbl, (1.0, 1.0, 1.0))\n",
    "        legend_patches.append(Patch(edgecolor=c, facecolor='none', label=name, linewidth=2))\n",
    "\n",
    "    ax.legend(handles=legend_patches, bbox_to_anchor=(1.05, 1), loc='upper left')\n",
    "\n",
    "    # Ensure output directory exists\n",
    "    os.makedirs(outdir, exist_ok=True)\n",
    "\n",
    "    # Save the figure\n",
    "    output_path = os.path.join(outdir, f\"{output_prefix}_level{level_for_display}.png\")\n",
    "    plt.savefig(output_path, bbox_inches='tight', dpi=300)\n",
    "    plt.close()\n",
    "    print(f\"Saved tile path overlay to {output_path}\")\n"
   ]
  },
  {
   "cell_type": "code",
   "execution_count": 48,
   "id": "a09ef6d7-c99d-4f93-8016-c9f9ccb5f453",
   "metadata": {},
   "outputs": [
    {
     "name": "stdout",
     "output_type": "stream",
     "text": [
      "Using level 2 => Dimension: 22080x23232, Downsample=4.0\n",
      "Tile 0 => Label=0 (Neural-Crest), Region=(11,1), Size=128\n",
      "Tile 1 => Label=0 (Neural-Crest), Region=(11,1), Size=128\n",
      "Tile 2 => Label=0 (Neural-Crest), Region=(11,1), Size=128\n",
      "Tile 3 => Label=0 (Neural-Crest), Region=(12,1), Size=128\n",
      "Tile 4 => Label=0 (Neural-Crest), Region=(10,1), Size=128\n",
      "Saved tile path overlay to GNN_modle_Malignant_5FCross_multiGPU/tile_paths_level2.png\n"
     ]
    }
   ],
   "source": [
    "overlay_tile_paths_on_wsi(\n",
    "    slide_path=slide_file_name,\n",
    "    tile_coords=tile_coords,\n",
    "    tile_labels=tile_labels,\n",
    "    tile_size=512,\n",
    "    level_for_display=2,\n",
    "     label_names= category_labels,          # dict label->string\n",
    "    label_colors= custom_colors,   \n",
    "    outdir=outdir,\n",
    "    output_prefix=\"tile_paths\"\n",
    ")"
   ]
  },
  {
   "cell_type": "code",
   "execution_count": 2,
   "id": "cb3f363b-f8a5-40ac-9e12-fc3a8e18e5dc",
   "metadata": {},
   "outputs": [
    {
     "name": "stdout",
     "output_type": "stream",
     "text": [
      "Skipping scaling methode...!\n",
      "Skipping scaling methode...!\n",
      "Skipping scaling methode...!\n",
      "Skipping scaling methode...!\n",
      "Multi-panel plot saved to GNN_modle_Malignant_5FCross_multiGPU/BM51/All_cellstate_prediction_score.png\n",
      "Categorical scatter plot saved to GNN_modle_Malignant_5FCross_multiGPU/BM51/cellstate_Class_prediction.png\n",
      "Skipping scaling methode...!\n",
      "Skipping scaling methode...!\n",
      "Skipping scaling methode...!\n",
      "Skipping scaling methode...!\n",
      "Multi-panel plot saved to GNN_modle_Malignant_5FCross_multiGPU/CH26/All_cellstate_prediction_score.png\n",
      "Categorical scatter plot saved to GNN_modle_Malignant_5FCross_multiGPU/CH26/cellstate_Class_prediction.png\n",
      "Skipping scaling methode...!\n",
      "Skipping scaling methode...!\n",
      "Skipping scaling methode...!\n",
      "Skipping scaling methode...!\n",
      "Multi-panel plot saved to GNN_modle_Malignant_5FCross_multiGPU/BG13/All_cellstate_prediction_score.png\n",
      "Categorical scatter plot saved to GNN_modle_Malignant_5FCross_multiGPU/BG13/cellstate_Class_prediction.png\n",
      "Skipping scaling methode...!\n",
      "Skipping scaling methode...!\n",
      "Skipping scaling methode...!\n",
      "Skipping scaling methode...!\n",
      "Multi-panel plot saved to GNN_modle_Malignant_5FCross_multiGPU/BL98/All_cellstate_prediction_score.png\n",
      "Categorical scatter plot saved to GNN_modle_Malignant_5FCross_multiGPU/BL98/cellstate_Class_prediction.png\n"
     ]
    }
   ],
   "source": [
    "slide_names=[\"BM51_ST-22-34_A-1_-_2022-01-25_10.54.58.ndpi\",\n",
    "             \"CH26_ST-22-4288_A-1 - 2022-06-28 12.33.40.ndpi\",\n",
    "             \"BG13_ST-21-10266-A3_-_2021-11-23_10.18.01.ndpi\",\n",
    "             \"BL98_ST-22-28_A120.ndpi\"]\n",
    "#all_tile_result = np.load(os.path.join(outdir,\"combined_tile_results.npz\"),allow_pickle=True)\n",
    "tile_coord_path = \"/data/NCI_LP/pediatric_Data/Medulloblastoma/NCI_MB_GP34/outputs/NCI_MB_GP34_example/NCI_MB_GP34_coordinates/\"\n",
    "# Mapping of category numbers to names\n",
    "category_labels = {\n",
    "    0: \"Neural-Crest\",\n",
    "    1: \"Neuronal\",\n",
    "    2: \"Photoreceptor\",\n",
    "    3: \"Proliferative\"\n",
    "}\n",
    "\n",
    "# Define a custom color palette (hex codes, RGB, or named colors)\n",
    "custom_colors = {\n",
    "    0: \"#F8D90F\",  # yellow\n",
    "    1: \"#329D9C\",  # Green\n",
    "    2: \"#1F2F98\",  # Blue\n",
    "    3: \"#F04393\"   # pink\n",
    "}\n",
    "\n",
    "for slide in slide_names:\n",
    "    slide_id = slide.split(\"_\")[0]\n",
    "    # slide directory\n",
    "    os.makedirs(slide_id, exist_ok=True)\n",
    "    out_path=os.path.join(outdir,slide_id)\n",
    "    \n",
    "    # get tile label and score for slide\n",
    "    tile_result = all_tile_result[slide]\n",
    "    tile_dict = tile_result.item()  # Extract the dictionary from the array\n",
    "    tile_labels = tile_dict['tile_preds']\n",
    "    tile_scores = pd.DataFrame(tile_dict['tile_score'])\n",
    "    tile_scores.columns = [\"Neural.Crest\", \"Neuronal\", \"Photoreceptor\", \"Proliferative\"]\n",
    "    # get tile coordinates\n",
    "    \n",
    "    slide_coord_name = slide+\"_tile_coordinates.csv\"\n",
    "    tile_coords = pd.read_csv(os.path.join(tile_coord_path,slide_coord_name))\n",
    "    tile_coords = tile_coords.to_numpy()\n",
    "    \n",
    "    # create gradient plot for cell state scores\n",
    "    create_multi_panel_scatter_plot(tile_coords, tile_scores,scale_method=\"none\", outdir=out_path)\n",
    "    # Generate the categorical scatter plot\n",
    "    create_categorical_scatter_plot(tile_coords, tile_labels, category_labels, custom_colors, out_path)"
   ]
  },
  {
   "cell_type": "code",
   "execution_count": 4,
   "id": "31a8828f-5d18-4525-b43f-d6383cf3447b",
   "metadata": {},
   "outputs": [
    {
     "data": {
      "text/plain": [
       "'BM51'"
      ]
     },
     "execution_count": 4,
     "metadata": {},
     "output_type": "execute_result"
    }
   ],
   "source": []
  },
  {
   "cell_type": "code",
   "execution_count": null,
   "id": "889ad406-f723-4ee9-9900-b27252b5f3c8",
   "metadata": {},
   "outputs": [],
   "source": []
  }
 ],
 "metadata": {
  "kernelspec": {
   "display_name": "Python (myspecialenv)",
   "language": "python",
   "name": "myspecialenv"
  },
  "language_info": {
   "codemirror_mode": {
    "name": "ipython",
    "version": 3
   },
   "file_extension": ".py",
   "mimetype": "text/x-python",
   "name": "python",
   "nbconvert_exporter": "python",
   "pygments_lexer": "ipython3",
   "version": "3.12.7"
  }
 },
 "nbformat": 4,
 "nbformat_minor": 5
}
